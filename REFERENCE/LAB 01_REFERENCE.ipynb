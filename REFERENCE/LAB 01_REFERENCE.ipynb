{
  "nbformat": 4,
  "nbformat_minor": 0,
  "metadata": {
    "colab": {
      "name": "IT606 Lab 01.ipynb",
      "provenance": []
    },
    "kernelspec": {
      "name": "python3",
      "display_name": "Python 3"
    },
    "language_info": {
      "name": "python"
    }
  },
  "cells": [
    {
      "cell_type": "code",
      "metadata": {
        "id": "H_ksstHZ9788"
      },
      "source": [
        "#ipynb: interactive python notebook"
      ],
      "execution_count": null,
      "outputs": []
    },
    {
      "cell_type": "markdown",
      "metadata": {
        "id": "sbKu7liX_SIn"
      },
      "source": [
        "Print function\n"
      ]
    },
    {
      "cell_type": "code",
      "metadata": {
        "colab": {
          "base_uri": "https://localhost:8080/"
        },
        "id": "1VwCOwIe_PrM",
        "outputId": "d9a616f5-4082-42d0-e5ff-186e4dd08570"
      },
      "source": [
        "print(\"Welcome to DAIICT\")"
      ],
      "execution_count": 1,
      "outputs": [
        {
          "output_type": "stream",
          "text": [
            "Welcome to DAIICT\n"
          ],
          "name": "stdout"
        }
      ]
    },
    {
      "cell_type": "code",
      "metadata": {
        "colab": {
          "base_uri": "https://localhost:8080/"
        },
        "id": "E0vN6AeE_bJY",
        "outputId": "6196607a-098a-40ef-9ba3-eb0874c82507"
      },
      "source": [
        "print(\"Sachin Tendulkar\")"
      ],
      "execution_count": 2,
      "outputs": [
        {
          "output_type": "stream",
          "text": [
            "Sachin Tendulkar\n"
          ],
          "name": "stdout"
        }
      ]
    },
    {
      "cell_type": "code",
      "metadata": {
        "colab": {
          "base_uri": "https://localhost:8080/"
        },
        "id": "4FatBSqu_l5r",
        "outputId": "4553081f-e80d-4f81-baef-f47ba10a9f28"
      },
      "source": [
        "print(\"Sachin\",\"Tendulkar\")"
      ],
      "execution_count": 3,
      "outputs": [
        {
          "output_type": "stream",
          "text": [
            "Sachin Tendulkar\n"
          ],
          "name": "stdout"
        }
      ]
    },
    {
      "cell_type": "markdown",
      "metadata": {
        "id": "9e5scZgI_4AN"
      },
      "source": [
        "For the strings, \"+\" acts as concatenation operator"
      ]
    },
    {
      "cell_type": "code",
      "metadata": {
        "colab": {
          "base_uri": "https://localhost:8080/"
        },
        "id": "KEioVaOv_rtx",
        "outputId": "0933e09d-dd28-4e78-f1fc-817522376a84"
      },
      "source": [
        "print(\"Sachin\"+\"Tendulkar\")"
      ],
      "execution_count": 6,
      "outputs": [
        {
          "output_type": "stream",
          "text": [
            "SachinTendulkar\n"
          ],
          "name": "stdout"
        }
      ]
    },
    {
      "cell_type": "code",
      "metadata": {
        "colab": {
          "base_uri": "https://localhost:8080/"
        },
        "id": "S5r4Vc-SQKso",
        "outputId": "775b2860-664d-4e29-f7f8-edd04dc26939"
      },
      "source": [
        "print(1+2)  #int"
      ],
      "execution_count": 48,
      "outputs": [
        {
          "output_type": "stream",
          "text": [
            "3\n"
          ],
          "name": "stdout"
        }
      ]
    },
    {
      "cell_type": "code",
      "metadata": {
        "colab": {
          "base_uri": "https://localhost:8080/"
        },
        "id": "_EWt06cJQlC6",
        "outputId": "ac7781fd-5119-4b0c-c149-d3ce15ba4f8b"
      },
      "source": [
        "print(1+2.1)"
      ],
      "execution_count": 51,
      "outputs": [
        {
          "output_type": "stream",
          "text": [
            "3.1\n"
          ],
          "name": "stdout"
        }
      ]
    },
    {
      "cell_type": "code",
      "metadata": {
        "colab": {
          "base_uri": "https://localhost:8080/"
        },
        "id": "_uNwVm7YQanQ",
        "outputId": "dd1c8eea-c58a-4414-8df6-96f723767daa"
      },
      "source": [
        "print(1.0+2.0)  #float"
      ],
      "execution_count": 50,
      "outputs": [
        {
          "output_type": "stream",
          "text": [
            "3.0\n"
          ],
          "name": "stdout"
        }
      ]
    },
    {
      "cell_type": "code",
      "metadata": {
        "colab": {
          "base_uri": "https://localhost:8080/"
        },
        "id": "cUZcvBrNQQbg",
        "outputId": "7c313989-320f-474f-f674-61b58ad3d26a"
      },
      "source": [
        "print('1'+'2')   #characters"
      ],
      "execution_count": 49,
      "outputs": [
        {
          "output_type": "stream",
          "text": [
            "12\n"
          ],
          "name": "stdout"
        }
      ]
    },
    {
      "cell_type": "markdown",
      "metadata": {
        "id": "S0Qz1DYYAHNj"
      },
      "source": [
        "Separator--> sep----> whatever you want in between the words, put it as separator... By default, sep=' ' i.e. a space\n"
      ]
    },
    {
      "cell_type": "code",
      "metadata": {
        "colab": {
          "base_uri": "https://localhost:8080/"
        },
        "id": "5hSL7kJJ_2Ne",
        "outputId": "b3593888-e4c6-499e-962a-cf9db595b90e"
      },
      "source": [
        "print(\"Neeraj\",\"Chopra\",sep='#')"
      ],
      "execution_count": 11,
      "outputs": [
        {
          "output_type": "stream",
          "text": [
            "Neeraj#Chopra\n"
          ],
          "name": "stdout"
        }
      ]
    },
    {
      "cell_type": "markdown",
      "metadata": {
        "id": "4Ab9vodDBIyz"
      },
      "source": [
        "For displaying the string, you can use single or double quotes"
      ]
    },
    {
      "cell_type": "code",
      "metadata": {
        "colab": {
          "base_uri": "https://localhost:8080/"
        },
        "id": "Ex4N9SgVAdvL",
        "outputId": "cd2eb247-a3cf-4fef-9a6c-f273cedf9b0c"
      },
      "source": [
        "print('Neeraj Chopra')"
      ],
      "execution_count": 13,
      "outputs": [
        {
          "output_type": "stream",
          "text": [
            "Neeraj Chopra\n"
          ],
          "name": "stdout"
        }
      ]
    },
    {
      "cell_type": "code",
      "metadata": {
        "colab": {
          "base_uri": "https://localhost:8080/"
        },
        "id": "b5wshKg1A-Nt",
        "outputId": "3a09c018-22a9-4512-9619-40c415f3d1f1"
      },
      "source": [
        "print(\"'neeraj chopra'\")"
      ],
      "execution_count": 14,
      "outputs": [
        {
          "output_type": "stream",
          "text": [
            "'neeraj chopra'\n"
          ],
          "name": "stdout"
        }
      ]
    },
    {
      "cell_type": "code",
      "metadata": {
        "colab": {
          "base_uri": "https://localhost:8080/"
        },
        "id": "RAiOu61uBSwv",
        "outputId": "3d1ce7ee-b13f-426f-c18b-f74938b6661a"
      },
      "source": [
        "print('\"neeraj chopra\"')"
      ],
      "execution_count": 15,
      "outputs": [
        {
          "output_type": "stream",
          "text": [
            "\"neeraj chopra\"\n"
          ],
          "name": "stdout"
        }
      ]
    },
    {
      "cell_type": "code",
      "metadata": {
        "colab": {
          "base_uri": "https://localhost:8080/"
        },
        "id": "jkqAb5nsBYtb",
        "outputId": "5214dea9-7b34-494a-a6f8-0361b25224dc"
      },
      "source": [
        "print('\"neeraj\"',\"'chopra'\")"
      ],
      "execution_count": 16,
      "outputs": [
        {
          "output_type": "stream",
          "text": [
            "\"neeraj\" 'chopra'\n"
          ],
          "name": "stdout"
        }
      ]
    },
    {
      "cell_type": "markdown",
      "metadata": {
        "id": "Bt8T-N5jCD-b"
      },
      "source": [
        "use of end in print function"
      ]
    },
    {
      "cell_type": "code",
      "metadata": {
        "colab": {
          "base_uri": "https://localhost:8080/"
        },
        "id": "HhDvAO5dBgXF",
        "outputId": "16ea767e-c1fc-4e82-b9aa-6815c1cc6e37"
      },
      "source": [
        "print(\"Nishith\",\"Kotak\",sep=\"*\",end=\"^\")"
      ],
      "execution_count": 17,
      "outputs": [
        {
          "output_type": "stream",
          "text": [
            "Nishith*Kotak^"
          ],
          "name": "stdout"
        }
      ]
    },
    {
      "cell_type": "code",
      "metadata": {
        "colab": {
          "base_uri": "https://localhost:8080/"
        },
        "id": "d1LY3LBbCSrk",
        "outputId": "1eef5d4b-7e5f-48a0-854f-5b2e88217591"
      },
      "source": [
        "print(\"Hello\",\"Nishith\",\"Kotak\",sep=\"*\",end=\"^\")"
      ],
      "execution_count": 18,
      "outputs": [
        {
          "output_type": "stream",
          "text": [
            "Hello*Nishith*Kotak^"
          ],
          "name": "stdout"
        }
      ]
    },
    {
      "cell_type": "code",
      "metadata": {
        "colab": {
          "base_uri": "https://localhost:8080/"
        },
        "id": "AfsseCEcCiEU",
        "outputId": "35c98ed4-0383-4e3e-a5c2-d2d9b4ba4c83"
      },
      "source": [
        "print(\"Hello\",\"Nishith\",\"Kotak\",sep=\"*\",end=\"^\")"
      ],
      "execution_count": 20,
      "outputs": [
        {
          "output_type": "stream",
          "text": [
            "Hello*Nishith*Kotak^"
          ],
          "name": "stdout"
        }
      ]
    },
    {
      "cell_type": "code",
      "metadata": {
        "colab": {
          "base_uri": "https://localhost:8080/"
        },
        "id": "4NoDjq-DCv_m",
        "outputId": "8770518e-aad1-410a-fa38-cc56f0b1c717"
      },
      "source": [
        "print(\"Hello Nishith Kotak\",sep=\"*\",end=\"^\")"
      ],
      "execution_count": 21,
      "outputs": [
        {
          "output_type": "stream",
          "text": [
            "Hello Nishith Kotak^"
          ],
          "name": "stdout"
        }
      ]
    },
    {
      "cell_type": "markdown",
      "metadata": {
        "id": "xivdQ5S2D-Kd"
      },
      "source": [
        "Escape CHARACTERS--> \\n,\\t                \n",
        "\\n: New line                  \n",
        "\\t: Tab"
      ]
    },
    {
      "cell_type": "code",
      "metadata": {
        "colab": {
          "base_uri": "https://localhost:8080/"
        },
        "id": "p3JoavUADsL6",
        "outputId": "87f896ce-4fbd-4a5a-a68d-406416e92fba"
      },
      "source": [
        "print(\"Nishith\\nKotak\\nHello\")"
      ],
      "execution_count": 22,
      "outputs": [
        {
          "output_type": "stream",
          "text": [
            "Nishith\n",
            "Kotak\n",
            "Hello\n"
          ],
          "name": "stdout"
        }
      ]
    },
    {
      "cell_type": "code",
      "metadata": {
        "colab": {
          "base_uri": "https://localhost:8080/"
        },
        "id": "SMb29ERRETq3",
        "outputId": "2fdf6570-44ee-4e5e-e95b-a975f90f62be"
      },
      "source": [
        "print(\"Nishith\",\"Kotak\",\"Hello\",sep=\"\\n\")"
      ],
      "execution_count": 23,
      "outputs": [
        {
          "output_type": "stream",
          "text": [
            "Nishith\n",
            "Kotak\n",
            "Hello\n"
          ],
          "name": "stdout"
        }
      ]
    },
    {
      "cell_type": "code",
      "metadata": {
        "colab": {
          "base_uri": "https://localhost:8080/"
        },
        "id": "0kUFImaPEic5",
        "outputId": "542b272b-5f30-43bc-8c9e-12c59b1381c2"
      },
      "source": [
        "print(\"Virat Kohli\")\n",
        "print(\"Virat\\tKohli\")"
      ],
      "execution_count": 25,
      "outputs": [
        {
          "output_type": "stream",
          "text": [
            "Virat Kohli\n",
            "Virat\tKohli\n"
          ],
          "name": "stdout"
        }
      ]
    },
    {
      "cell_type": "code",
      "metadata": {
        "colab": {
          "base_uri": "https://localhost:8080/"
        },
        "id": "ljxsEPIcEqWA",
        "outputId": "2e8bd2aa-8a8a-493c-8d0c-b5b865a9999f"
      },
      "source": [
        "print(\"Virat\",\"Kohli\",sep=\"\\t\")"
      ],
      "execution_count": 26,
      "outputs": [
        {
          "output_type": "stream",
          "text": [
            "Virat\tKohli\n"
          ],
          "name": "stdout"
        }
      ]
    },
    {
      "cell_type": "code",
      "metadata": {
        "colab": {
          "base_uri": "https://localhost:8080/"
        },
        "id": "tmwSkMkuEyv9",
        "outputId": "28045c63-fefe-4309-fcfe-ad7b6a8cf410"
      },
      "source": [
        "print(\"\\\\t\")"
      ],
      "execution_count": 31,
      "outputs": [
        {
          "output_type": "stream",
          "text": [
            "\\t\n"
          ],
          "name": "stdout"
        }
      ]
    },
    {
      "cell_type": "code",
      "metadata": {
        "colab": {
          "base_uri": "https://localhost:8080/"
        },
        "id": "HWNa3bN9E8ZH",
        "outputId": "bfd930f5-78fc-4eea-bead-17b8ffe562aa"
      },
      "source": [
        "print(\"\\\\\")"
      ],
      "execution_count": 30,
      "outputs": [
        {
          "output_type": "stream",
          "text": [
            "\\\n"
          ],
          "name": "stdout"
        }
      ]
    },
    {
      "cell_type": "code",
      "metadata": {
        "colab": {
          "base_uri": "https://localhost:8080/"
        },
        "id": "qXWYIKMJFMnj",
        "outputId": "3a61f46a-7edb-40ff-f7a4-a9d1bc299f1c"
      },
      "source": [
        "print(\"ABC\\nPQR\\nXYZ\")"
      ],
      "execution_count": 34,
      "outputs": [
        {
          "output_type": "stream",
          "text": [
            "ABC\n",
            "PQR\n",
            "XYZ\n"
          ],
          "name": "stdout"
        }
      ]
    },
    {
      "cell_type": "code",
      "metadata": {
        "colab": {
          "base_uri": "https://localhost:8080/"
        },
        "id": "y7PrIBCuFbiT",
        "outputId": "6647a30e-9492-4381-a15c-3a020b42fa4f"
      },
      "source": [
        "print(\"ABC\\nPQR\\tXYZ\")"
      ],
      "execution_count": 35,
      "outputs": [
        {
          "output_type": "stream",
          "text": [
            "ABC\n",
            "PQR\tXYZ\n"
          ],
          "name": "stdout"
        }
      ]
    },
    {
      "cell_type": "code",
      "metadata": {
        "colab": {
          "base_uri": "https://localhost:8080/"
        },
        "id": "yMT5psdfFprS",
        "outputId": "9eb6f851-cbcd-4ba2-8655-769c0c8619ba"
      },
      "source": [
        "print(\"ABC\\\\nPQR\\\\tXYZ\")"
      ],
      "execution_count": 36,
      "outputs": [
        {
          "output_type": "stream",
          "text": [
            "ABC\\nPQR\\tXYZ\n"
          ],
          "name": "stdout"
        }
      ]
    },
    {
      "cell_type": "code",
      "metadata": {
        "colab": {
          "base_uri": "https://localhost:8080/"
        },
        "id": "yud7vJCHFt6d",
        "outputId": "13acb534-30de-47a4-cddc-794a39941685"
      },
      "source": [
        "print(\"ABC\\nPQR\\tXYZ\")\n",
        "print(\"with r\")\n",
        "print(r\"ABC\\nPQR\\tXYZ\")  #r-->raw format    #--> single line comment"
      ],
      "execution_count": 38,
      "outputs": [
        {
          "output_type": "stream",
          "text": [
            "ABC\n",
            "PQR\tXYZ\n",
            "with r\n",
            "ABC\\nPQR\\tXYZ\n"
          ],
          "name": "stdout"
        }
      ]
    },
    {
      "cell_type": "code",
      "metadata": {
        "colab": {
          "base_uri": "https://localhost:8080/"
        },
        "id": "XcAMLbdcF0mF",
        "outputId": "ae2cc55a-6b78-4683-fb1c-66c4d30e869c"
      },
      "source": [
        "print(\"Virat\",\"Kohli\",\"hello\",sep=\"\\t\")               \n",
        "print(\"Sachin\",\"Tendulkar\",\"hello\",sep=\"\\t\")      #homework.... Why????"
      ],
      "execution_count": 44,
      "outputs": [
        {
          "output_type": "stream",
          "text": [
            "Virat\tKohli\thello\n",
            "Sachin\tTendulkar\thello\n"
          ],
          "name": "stdout"
        }
      ]
    },
    {
      "cell_type": "markdown",
      "metadata": {
        "id": "lVkiu1EuLVhY"
      },
      "source": [
        "print using format specifiers    index starts from 0"
      ]
    },
    {
      "cell_type": "code",
      "metadata": {
        "colab": {
          "base_uri": "https://localhost:8080/"
        },
        "id": "3iVZnR4sKZld",
        "outputId": "d7232d3b-9787-47cb-b15d-792cacdfbe24"
      },
      "source": [
        "print(\"I am {} studying {} at {}. I am from {}\".format(\"student\",\"python\",\"DAIICT\",\"Gujarat\"))"
      ],
      "execution_count": 45,
      "outputs": [
        {
          "output_type": "stream",
          "text": [
            "I am student studying python at DAIICT. I am from Gujarat\n"
          ],
          "name": "stdout"
        }
      ]
    },
    {
      "cell_type": "code",
      "metadata": {
        "colab": {
          "base_uri": "https://localhost:8080/"
        },
        "id": "k8mOFelgPejl",
        "outputId": "cb73f2d6-eb09-4d90-d56f-4c585cb1dda7"
      },
      "source": [
        "print(\"I am {1} studying {0} at {3}. I am from {2}\".format(\"student\",\"python\",\"DAIICT\",\"Gujarat\"))"
      ],
      "execution_count": 46,
      "outputs": [
        {
          "output_type": "stream",
          "text": [
            "I am python studying student at Gujarat. I am from DAIICT\n"
          ],
          "name": "stdout"
        }
      ]
    },
    {
      "cell_type": "code",
      "metadata": {
        "colab": {
          "base_uri": "https://localhost:8080/"
        },
        "id": "rco2S_OxPuDq",
        "outputId": "9fb4a16e-4b95-4c85-f3ec-d04bf60c88df"
      },
      "source": [
        "print(\"I am {1} studying {1} at {1}. I am from {1}\".format(\"student\",\"python\",\"DAIICT\",\"Gujarat\"))"
      ],
      "execution_count": 47,
      "outputs": [
        {
          "output_type": "stream",
          "text": [
            "I am python studying python at python. I am from python\n"
          ],
          "name": "stdout"
        }
      ]
    },
    {
      "cell_type": "markdown",
      "metadata": {
        "id": "DXmHydAkQCVJ"
      },
      "source": [
        "Input function.... By default, input is in string... External Type casting\n",
        "evaluate---> eval"
      ]
    },
    {
      "cell_type": "code",
      "metadata": {
        "colab": {
          "base_uri": "https://localhost:8080/"
        },
        "id": "xYlP-HHJQ3VL",
        "outputId": "bc20e903-37e0-46f8-908a-496eac8a4292"
      },
      "source": [
        "x=input(\"plz enter the number: \")"
      ],
      "execution_count": 66,
      "outputs": [
        {
          "output_type": "stream",
          "text": [
            "plz enter the number: abcd\n"
          ],
          "name": "stdout"
        }
      ]
    },
    {
      "cell_type": "code",
      "metadata": {
        "colab": {
          "base_uri": "https://localhost:8080/"
        },
        "id": "dK8TiLPrQ8LP",
        "outputId": "aec00e50-b73f-46be-ea5d-4bb85cc16cc8"
      },
      "source": [
        "x=int(input(\"plz enter the number: \"))"
      ],
      "execution_count": 68,
      "outputs": [
        {
          "output_type": "stream",
          "text": [
            "plz enter the number: 1\n"
          ],
          "name": "stdout"
        }
      ]
    },
    {
      "cell_type": "code",
      "metadata": {
        "colab": {
          "base_uri": "https://localhost:8080/"
        },
        "id": "49etWZBfR5Bv",
        "outputId": "aa61261a-4243-49a9-fc99-e51cf5eab40a"
      },
      "source": [
        "x=input(\"plz enter the number: \")"
      ],
      "execution_count": 136,
      "outputs": [
        {
          "output_type": "stream",
          "text": [
            "plz enter the number: abcd\n"
          ],
          "name": "stdout"
        }
      ]
    },
    {
      "cell_type": "code",
      "metadata": {
        "colab": {
          "base_uri": "https://localhost:8080/"
        },
        "id": "cuUNcnVYR8U_",
        "outputId": "5e590d21-285f-4679-9f0e-7ecdc10a0fda"
      },
      "source": [
        "print(x)"
      ],
      "execution_count": 138,
      "outputs": [
        {
          "output_type": "stream",
          "text": [
            "abcd\n"
          ],
          "name": "stdout"
        }
      ]
    },
    {
      "cell_type": "code",
      "metadata": {
        "colab": {
          "base_uri": "https://localhost:8080/"
        },
        "id": "J9_ZkVaOYtIA",
        "outputId": "b0812364-10f2-43aa-91c3-519f38605df2"
      },
      "source": [
        "type(x)"
      ],
      "execution_count": 135,
      "outputs": [
        {
          "output_type": "execute_result",
          "data": {
            "text/plain": [
              "str"
            ]
          },
          "metadata": {},
          "execution_count": 135
        }
      ]
    },
    {
      "cell_type": "code",
      "metadata": {
        "colab": {
          "base_uri": "https://localhost:8080/"
        },
        "id": "EZ7q6w6xQ_ui",
        "outputId": "b7ed3b4c-bd4d-4842-fb33-a1acfe6ef4e4"
      },
      "source": [
        "x=float(input(\"plz enter the number: \"))"
      ],
      "execution_count": 70,
      "outputs": [
        {
          "output_type": "stream",
          "text": [
            "plz enter the number: 1.3\n"
          ],
          "name": "stdout"
        }
      ]
    },
    {
      "cell_type": "code",
      "metadata": {
        "colab": {
          "base_uri": "https://localhost:8080/"
        },
        "id": "DjDv-vYcRNwk",
        "outputId": "8bfab0ed-96f4-4ad0-9cc3-1bf265547bfe"
      },
      "source": [
        "x=eval(input(\"plz enter the number: \"))"
      ],
      "execution_count": 79,
      "outputs": [
        {
          "output_type": "stream",
          "text": [
            "plz enter the number: 'abcd'\n"
          ],
          "name": "stdout"
        }
      ]
    },
    {
      "cell_type": "code",
      "metadata": {
        "colab": {
          "base_uri": "https://localhost:8080/",
          "height": 35
        },
        "id": "omBBOk1YRVfF",
        "outputId": "c9eb31ac-a984-4e2f-8065-eec2d0d2e0bf"
      },
      "source": [
        "x"
      ],
      "execution_count": 80,
      "outputs": [
        {
          "output_type": "execute_result",
          "data": {
            "application/vnd.google.colaboratory.intrinsic+json": {
              "type": "string"
            },
            "text/plain": [
              "'abcd'"
            ]
          },
          "metadata": {},
          "execution_count": 80
        }
      ]
    },
    {
      "cell_type": "code",
      "metadata": {
        "colab": {
          "base_uri": "https://localhost:8080/"
        },
        "id": "VlhYH2RqSLlH",
        "outputId": "1ed3ab89-c389-47e8-dc29-c14c36ebcf54"
      },
      "source": [
        "x=eval(input(\"enter the expression: \"))"
      ],
      "execution_count": 83,
      "outputs": [
        {
          "output_type": "stream",
          "text": [
            "enter the expression: '(1+3)-5'\n"
          ],
          "name": "stdout"
        }
      ]
    },
    {
      "cell_type": "code",
      "metadata": {
        "colab": {
          "base_uri": "https://localhost:8080/",
          "height": 35
        },
        "id": "AaeVJjKNSfFB",
        "outputId": "757edbec-8e15-442c-baf9-712df14650cf"
      },
      "source": [
        "x"
      ],
      "execution_count": 84,
      "outputs": [
        {
          "output_type": "execute_result",
          "data": {
            "application/vnd.google.colaboratory.intrinsic+json": {
              "type": "string"
            },
            "text/plain": [
              "'(1+3)-5'"
            ]
          },
          "metadata": {},
          "execution_count": 84
        }
      ]
    },
    {
      "cell_type": "code",
      "metadata": {
        "id": "3RvZK9m8SiAE"
      },
      "source": [
        "x=2\n",
        "y=1"
      ],
      "execution_count": 85,
      "outputs": []
    },
    {
      "cell_type": "code",
      "metadata": {
        "id": "_ahzt0jnSzLY"
      },
      "source": [
        "x,y,z=2,1,5"
      ],
      "execution_count": 89,
      "outputs": []
    },
    {
      "cell_type": "code",
      "metadata": {
        "colab": {
          "base_uri": "https://localhost:8080/"
        },
        "id": "QDTqT6M4SuLL",
        "outputId": "e75a8646-c162-4c59-99a3-87a40e483314"
      },
      "source": [
        "x+y+z"
      ],
      "execution_count": 90,
      "outputs": [
        {
          "output_type": "execute_result",
          "data": {
            "text/plain": [
              "8"
            ]
          },
          "metadata": {},
          "execution_count": 90
        }
      ]
    },
    {
      "cell_type": "markdown",
      "metadata": {
        "id": "8bR_CUa9TDc4"
      },
      "source": [
        "swapping values of two variables"
      ]
    },
    {
      "cell_type": "code",
      "metadata": {
        "id": "4dgy6293Svg_"
      },
      "source": [
        "x,y=2,1"
      ],
      "execution_count": 94,
      "outputs": []
    },
    {
      "cell_type": "code",
      "metadata": {
        "id": "GnDU3JhaTHfu"
      },
      "source": [
        "temp=x\n",
        "x=y\n",
        "y=temp"
      ],
      "execution_count": 92,
      "outputs": []
    },
    {
      "cell_type": "code",
      "metadata": {
        "colab": {
          "base_uri": "https://localhost:8080/"
        },
        "id": "sG3vE_vbTL-k",
        "outputId": "9e1bf3bf-f7ab-480e-8289-cc92f21fbecc"
      },
      "source": [
        "print(x)\n",
        "print(y)"
      ],
      "execution_count": 95,
      "outputs": [
        {
          "output_type": "stream",
          "text": [
            "2\n",
            "1\n"
          ],
          "name": "stdout"
        }
      ]
    },
    {
      "cell_type": "code",
      "metadata": {
        "id": "u3MeCwhnTOKh"
      },
      "source": [
        "x,y=y,x"
      ],
      "execution_count": 96,
      "outputs": []
    },
    {
      "cell_type": "code",
      "metadata": {
        "colab": {
          "base_uri": "https://localhost:8080/"
        },
        "id": "CKNDUV1ETY4T",
        "outputId": "c225b504-902f-4d25-e857-411041d7b058"
      },
      "source": [
        "print(x)\n",
        "print(y)"
      ],
      "execution_count": 97,
      "outputs": [
        {
          "output_type": "stream",
          "text": [
            "1\n",
            "2\n"
          ],
          "name": "stdout"
        }
      ]
    },
    {
      "cell_type": "markdown",
      "metadata": {
        "id": "btYvijWATgr4"
      },
      "source": [
        "Arithmetic operations: +,-,*,/,%,abs"
      ]
    },
    {
      "cell_type": "code",
      "metadata": {
        "id": "SPB4RkfRTacx"
      },
      "source": [
        "x,y=5,2"
      ],
      "execution_count": 98,
      "outputs": []
    },
    {
      "cell_type": "code",
      "metadata": {
        "colab": {
          "base_uri": "https://localhost:8080/"
        },
        "id": "2EljGjc_TpI2",
        "outputId": "da3350aa-d7a3-4350-d3ac-254499298ad3"
      },
      "source": [
        "print(x)\n",
        "print(y)"
      ],
      "execution_count": 99,
      "outputs": [
        {
          "output_type": "stream",
          "text": [
            "5\n",
            "2\n"
          ],
          "name": "stdout"
        }
      ]
    },
    {
      "cell_type": "code",
      "metadata": {
        "colab": {
          "base_uri": "https://localhost:8080/"
        },
        "id": "iC7jjG8eTqiD",
        "outputId": "5d5f7bb1-6b2b-4dff-9d0c-b60e3647e849"
      },
      "source": [
        "x+y"
      ],
      "execution_count": 100,
      "outputs": [
        {
          "output_type": "execute_result",
          "data": {
            "text/plain": [
              "7"
            ]
          },
          "metadata": {},
          "execution_count": 100
        }
      ]
    },
    {
      "cell_type": "code",
      "metadata": {
        "colab": {
          "base_uri": "https://localhost:8080/"
        },
        "id": "qH7BX4IxTscE",
        "outputId": "0fb69431-fe09-4243-da87-c80f10760889"
      },
      "source": [
        "x-y"
      ],
      "execution_count": 101,
      "outputs": [
        {
          "output_type": "execute_result",
          "data": {
            "text/plain": [
              "3"
            ]
          },
          "metadata": {},
          "execution_count": 101
        }
      ]
    },
    {
      "cell_type": "code",
      "metadata": {
        "colab": {
          "base_uri": "https://localhost:8080/"
        },
        "id": "zpwHEBk7TtoU",
        "outputId": "2420ffb6-59b2-431c-b4a1-ab893bc0ac47"
      },
      "source": [
        "x/y"
      ],
      "execution_count": 102,
      "outputs": [
        {
          "output_type": "execute_result",
          "data": {
            "text/plain": [
              "2.5"
            ]
          },
          "metadata": {},
          "execution_count": 102
        }
      ]
    },
    {
      "cell_type": "code",
      "metadata": {
        "colab": {
          "base_uri": "https://localhost:8080/"
        },
        "id": "EMATsy8dTvhL",
        "outputId": "e8eb3806-0a43-41cb-dbc5-ec9a99303da5"
      },
      "source": [
        "x%y   #(%: it is remainder)"
      ],
      "execution_count": 103,
      "outputs": [
        {
          "output_type": "execute_result",
          "data": {
            "text/plain": [
              "1"
            ]
          },
          "metadata": {},
          "execution_count": 103
        }
      ]
    },
    {
      "cell_type": "code",
      "metadata": {
        "colab": {
          "base_uri": "https://localhost:8080/"
        },
        "id": "GnQNtrAAUIz3",
        "outputId": "7ced1da8-4bde-4ae2-e6f6-ce49baf965e5"
      },
      "source": [
        "x//y   #//: Quotient"
      ],
      "execution_count": 105,
      "outputs": [
        {
          "output_type": "execute_result",
          "data": {
            "text/plain": [
              "2"
            ]
          },
          "metadata": {},
          "execution_count": 105
        }
      ]
    },
    {
      "cell_type": "code",
      "metadata": {
        "colab": {
          "base_uri": "https://localhost:8080/"
        },
        "id": "86WpJy3XTyOv",
        "outputId": "edf9110b-5d77-4a61-c4d3-789a14a17111"
      },
      "source": [
        "abs(-5)"
      ],
      "execution_count": 104,
      "outputs": [
        {
          "output_type": "execute_result",
          "data": {
            "text/plain": [
              "5"
            ]
          },
          "metadata": {},
          "execution_count": 104
        }
      ]
    },
    {
      "cell_type": "markdown",
      "metadata": {
        "id": "v6G6jo2aUS_o"
      },
      "source": [
        "Evaluate: ((A+B)*C)-D"
      ]
    },
    {
      "cell_type": "code",
      "metadata": {
        "colab": {
          "base_uri": "https://localhost:8080/"
        },
        "id": "j6vYk686T_nB",
        "outputId": "e56d0892-5800-487f-be3a-04823b68c28b"
      },
      "source": [
        "A=eval(input(\"Enter the value of A: \"))\n",
        "B=eval(input(\"Enter the value of B: \"))\n",
        "C=eval(input(\"Enter the value of C: \"))\n",
        "D=eval(input(\"Enter the value of D: \"))"
      ],
      "execution_count": 106,
      "outputs": [
        {
          "output_type": "stream",
          "text": [
            "Enter the value of A: 1\n",
            "Enter the value of B: 2\n",
            "Enter the value of C: 3\n",
            "Enter the value of D: 4\n"
          ],
          "name": "stdout"
        }
      ]
    },
    {
      "cell_type": "code",
      "metadata": {
        "id": "ndMz7G71Ujed"
      },
      "source": [
        "x=((A+B)*C)-D"
      ],
      "execution_count": 107,
      "outputs": []
    },
    {
      "cell_type": "code",
      "metadata": {
        "colab": {
          "base_uri": "https://localhost:8080/"
        },
        "id": "5F5RucSAUr0-",
        "outputId": "a00cccd2-ab42-45a4-dbc3-9985c0d8269a"
      },
      "source": [
        "x"
      ],
      "execution_count": 108,
      "outputs": [
        {
          "output_type": "execute_result",
          "data": {
            "text/plain": [
              "5"
            ]
          },
          "metadata": {},
          "execution_count": 108
        }
      ]
    },
    {
      "cell_type": "markdown",
      "metadata": {
        "id": "-l0oaducU1b_"
      },
      "source": [
        "Invalid declaration of variables/literals:     \n",
        "starting with characters or underscore\n",
        "\n",
        "> Indented block\n",
        "\n"
      ]
    },
    {
      "cell_type": "code",
      "metadata": {
        "id": "orEQIgwmUscq"
      },
      "source": [
        "x=5"
      ],
      "execution_count": 109,
      "outputs": []
    },
    {
      "cell_type": "code",
      "metadata": {
        "id": "279VMOfdU7ui"
      },
      "source": [
        "x1=5"
      ],
      "execution_count": 110,
      "outputs": []
    },
    {
      "cell_type": "code",
      "metadata": {
        "id": "pPrB_wNKU9AD"
      },
      "source": [
        "x_1=5"
      ],
      "execution_count": 111,
      "outputs": []
    },
    {
      "cell_type": "code",
      "metadata": {
        "id": "4DPhBhv_VAEy"
      },
      "source": [
        "_x1=5"
      ],
      "execution_count": 112,
      "outputs": []
    },
    {
      "cell_type": "code",
      "metadata": {
        "id": "aD9Qf4EYVBXp"
      },
      "source": [
        "_1x=5"
      ],
      "execution_count": 113,
      "outputs": []
    },
    {
      "cell_type": "code",
      "metadata": {
        "colab": {
          "base_uri": "https://localhost:8080/",
          "height": 128
        },
        "id": "R_ZWtXutVEUi",
        "outputId": "694cc900-20c4-4dbc-dc26-2ee9a131f9c7"
      },
      "source": [
        "x@1=5"
      ],
      "execution_count": 117,
      "outputs": [
        {
          "output_type": "error",
          "ename": "SyntaxError",
          "evalue": "ignored",
          "traceback": [
            "\u001b[0;36m  File \u001b[0;32m\"<ipython-input-117-34182a04a216>\"\u001b[0;36m, line \u001b[0;32m1\u001b[0m\n\u001b[0;31m    x@1=5\u001b[0m\n\u001b[0m         ^\u001b[0m\n\u001b[0;31mSyntaxError\u001b[0m\u001b[0;31m:\u001b[0m can't assign to operator\n"
          ]
        }
      ]
    },
    {
      "cell_type": "code",
      "metadata": {
        "id": "3tXqiOeFVF44"
      },
      "source": [
        "y=\"abcd\""
      ],
      "execution_count": 124,
      "outputs": []
    },
    {
      "cell_type": "code",
      "metadata": {
        "colab": {
          "base_uri": "https://localhost:8080/",
          "height": 178
        },
        "id": "xIeaPCSqWkHP",
        "outputId": "092172fb-bab0-480a-a0ee-309ff73ccefc"
      },
      "source": [
        "#int(y)\n",
        "float(y)"
      ],
      "execution_count": 127,
      "outputs": [
        {
          "output_type": "error",
          "ename": "ValueError",
          "evalue": "ignored",
          "traceback": [
            "\u001b[0;31m---------------------------------------------------------------------------\u001b[0m",
            "\u001b[0;31mValueError\u001b[0m                                Traceback (most recent call last)",
            "\u001b[0;32m<ipython-input-127-0663c8f1f37a>\u001b[0m in \u001b[0;36m<module>\u001b[0;34m()\u001b[0m\n\u001b[1;32m      1\u001b[0m \u001b[0;31m#int(y)\u001b[0m\u001b[0;34m\u001b[0m\u001b[0;34m\u001b[0m\u001b[0;34m\u001b[0m\u001b[0m\n\u001b[0;32m----> 2\u001b[0;31m \u001b[0mfloat\u001b[0m\u001b[0;34m(\u001b[0m\u001b[0my\u001b[0m\u001b[0;34m)\u001b[0m\u001b[0;34m\u001b[0m\u001b[0;34m\u001b[0m\u001b[0m\n\u001b[0m",
            "\u001b[0;31mValueError\u001b[0m: could not convert string to float: 'abcd'"
          ]
        }
      ]
    },
    {
      "cell_type": "code",
      "metadata": {
        "colab": {
          "base_uri": "https://localhost:8080/",
          "height": 161
        },
        "id": "7hClQ-9oWlJm",
        "outputId": "4a0430e0-7750-4cc1-b885-30f06c103f78"
      },
      "source": [
        "float(y)"
      ],
      "execution_count": 126,
      "outputs": [
        {
          "output_type": "error",
          "ename": "ValueError",
          "evalue": "ignored",
          "traceback": [
            "\u001b[0;31m---------------------------------------------------------------------------\u001b[0m",
            "\u001b[0;31mValueError\u001b[0m                                Traceback (most recent call last)",
            "\u001b[0;32m<ipython-input-126-28db254ea52a>\u001b[0m in \u001b[0;36m<module>\u001b[0;34m()\u001b[0m\n\u001b[0;32m----> 1\u001b[0;31m \u001b[0mfloat\u001b[0m\u001b[0;34m(\u001b[0m\u001b[0my\u001b[0m\u001b[0;34m)\u001b[0m\u001b[0;34m\u001b[0m\u001b[0;34m\u001b[0m\u001b[0m\n\u001b[0m",
            "\u001b[0;31mValueError\u001b[0m: could not convert string to float: 'abcd'"
          ]
        }
      ]
    },
    {
      "cell_type": "code",
      "metadata": {
        "id": "7v-bOx-vWmli"
      },
      "source": [
        "x,y=2,3"
      ],
      "execution_count": 139,
      "outputs": []
    },
    {
      "cell_type": "code",
      "metadata": {
        "colab": {
          "base_uri": "https://localhost:8080/"
        },
        "id": "h4rqWLQZaWkl",
        "outputId": "3e9187ce-4467-43df-a298-76126afa9804"
      },
      "source": [
        "print(x)\n",
        "print(y)"
      ],
      "execution_count": 140,
      "outputs": [
        {
          "output_type": "stream",
          "text": [
            "2\n",
            "3\n"
          ],
          "name": "stdout"
        }
      ]
    },
    {
      "cell_type": "code",
      "metadata": {
        "colab": {
          "base_uri": "https://localhost:8080/"
        },
        "id": "z_I6vbK4aYWs",
        "outputId": "e9e90a31-fa41-42b4-bbd7-3e256f863c12"
      },
      "source": [
        "x*y"
      ],
      "execution_count": 142,
      "outputs": [
        {
          "output_type": "execute_result",
          "data": {
            "text/plain": [
              "6"
            ]
          },
          "metadata": {},
          "execution_count": 142
        }
      ]
    },
    {
      "cell_type": "code",
      "metadata": {
        "colab": {
          "base_uri": "https://localhost:8080/"
        },
        "id": "BIYXypvNaZ_Z",
        "outputId": "74203416-9df2-44df-86ad-70ea1664a2eb"
      },
      "source": [
        "x**y   # **--> ^ raised to function   2^3"
      ],
      "execution_count": 143,
      "outputs": [
        {
          "output_type": "execute_result",
          "data": {
            "text/plain": [
              "8"
            ]
          },
          "metadata": {},
          "execution_count": 143
        }
      ]
    },
    {
      "cell_type": "code",
      "metadata": {
        "id": "vMowX-m5acpw"
      },
      "source": [
        ""
      ],
      "execution_count": null,
      "outputs": []
    }
  ]
}